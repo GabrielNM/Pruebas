{
 "cells": [
  {
   "cell_type": "code",
   "execution_count": 1,
   "metadata": {},
   "outputs": [],
   "source": [
    "import pandas as pd\n",
    "import numpy as np\n",
    "import datetime\n",
    "from os import scandir, getcwd\n",
    "from matplotlib import pyplot as plt\n",
    "import seaborn as sns\n",
    "%matplotlib inline"
   ]
  },
  {
   "cell_type": "code",
   "execution_count": 2,
   "metadata": {},
   "outputs": [],
   "source": [
    "def ls(ruta = getcwd()):\n",
    "    return [arch.name for arch in scandir(ruta) if arch.is_file()]\n",
    "\n",
    "def daily_mean(files):\n",
    "    folder = 'Pasto'\n",
    "    a = pd.read_csv(folder+'/'+files[0], skiprows=2)\n",
    "    n = a.shape[0]\n",
    "    date = [None]*n\n",
    "    for i in range(n):\n",
    "        date[i] = pd.Timestamp(datetime.datetime(a['Year'][i], a['Month'][i], a['Day'][i], a['Hour'][i], a['Minute'][i]))\n",
    "    \n",
    "    n = len(files)\n",
    "    rad = [None]*n\n",
    "    temp = [None]*n\n",
    "    wind = [None]*n\n",
    "    \n",
    "    for i in range(n):\n",
    "        data = pd.read_csv(folder+'/'+files[i], skiprows=2)\n",
    "        \n",
    "        var = pd.DataFrame({'Date': pd.DatetimeIndex(date), 'GHI': data['GHI'], 'Temperature': data['Temperature'], \n",
    "                            'Wind Speed': data['Wind Speed']})\n",
    "        var = var.set_index('Date')\n",
    "        var = var.resample(\"D\").mean()\n",
    "        var.drop(var.index[59], inplace=True)\n",
    "        \n",
    "        rad[i] = var['GHI'].values\n",
    "        temp[i] = var['Temperature'].values\n",
    "        wind[i] = var['Wind Speed'].values\n",
    "        \n",
    "    return rad, wind, temp"
   ]
  },
  {
   "cell_type": "code",
   "execution_count": 3,
   "metadata": {},
   "outputs": [],
   "source": [
    "files = ls('Pasto')\n",
    "rad_, temp_, wind_ = daily_mean(files)"
   ]
  },
  {
   "cell_type": "code",
   "execution_count": 4,
   "metadata": {},
   "outputs": [],
   "source": [
    "rad = pd.DataFrame(rad_)\n",
    "rad = rad.values.ravel()\n",
    "rad = np.round(rad)\n",
    "\n",
    "temp = pd.DataFrame(temp_)\n",
    "temp = temp.values.ravel()\n",
    "temp = np.round(temp)\n",
    "\n",
    "wind = pd.DataFrame(wind_)\n",
    "wind = wind.values.ravel()\n",
    "wind = np.round(wind)"
   ]
  },
  {
   "cell_type": "code",
   "execution_count": 10,
   "metadata": {},
   "outputs": [
    {
     "data": {
      "text/html": [
       "<div>\n",
       "<style scoped>\n",
       "    .dataframe tbody tr th:only-of-type {\n",
       "        vertical-align: middle;\n",
       "    }\n",
       "\n",
       "    .dataframe tbody tr th {\n",
       "        vertical-align: top;\n",
       "    }\n",
       "\n",
       "    .dataframe thead th {\n",
       "        text-align: right;\n",
       "    }\n",
       "</style>\n",
       "<table border=\"1\" class=\"dataframe\">\n",
       "  <thead>\n",
       "    <tr style=\"text-align: right;\">\n",
       "      <th></th>\n",
       "      <th>GHI</th>\n",
       "      <th>Temperature</th>\n",
       "      <th>Wind Speed</th>\n",
       "    </tr>\n",
       "  </thead>\n",
       "  <tbody>\n",
       "    <tr>\n",
       "      <th>0</th>\n",
       "      <td>205.0</td>\n",
       "      <td>2.0</td>\n",
       "      <td>11.0</td>\n",
       "    </tr>\n",
       "    <tr>\n",
       "      <th>1</th>\n",
       "      <td>185.0</td>\n",
       "      <td>2.0</td>\n",
       "      <td>12.0</td>\n",
       "    </tr>\n",
       "    <tr>\n",
       "      <th>2</th>\n",
       "      <td>228.0</td>\n",
       "      <td>2.0</td>\n",
       "      <td>11.0</td>\n",
       "    </tr>\n",
       "    <tr>\n",
       "      <th>3</th>\n",
       "      <td>216.0</td>\n",
       "      <td>2.0</td>\n",
       "      <td>12.0</td>\n",
       "    </tr>\n",
       "    <tr>\n",
       "      <th>4</th>\n",
       "      <td>170.0</td>\n",
       "      <td>2.0</td>\n",
       "      <td>11.0</td>\n",
       "    </tr>\n",
       "  </tbody>\n",
       "</table>\n",
       "</div>"
      ],
      "text/plain": [
       "     GHI  Temperature  Wind Speed\n",
       "0  205.0          2.0        11.0\n",
       "1  185.0          2.0        12.0\n",
       "2  228.0          2.0        11.0\n",
       "3  216.0          2.0        12.0\n",
       "4  170.0          2.0        11.0"
      ]
     },
     "execution_count": 10,
     "metadata": {},
     "output_type": "execute_result"
    }
   ],
   "source": [
    "data_pasto = pd.DataFrame({'GHI': rad, 'Temperature': temp, 'Wind Speed': wind})\n",
    "data_pasto.head()"
   ]
  },
  {
   "cell_type": "code",
   "execution_count": 14,
   "metadata": {},
   "outputs": [],
   "source": [
    "data_pasto.to_csv('daily_pasto.csv',index=False)"
   ]
  },
  {
   "cell_type": "code",
   "execution_count": 15,
   "metadata": {},
   "outputs": [
    {
     "data": {
      "text/html": [
       "<div>\n",
       "<style scoped>\n",
       "    .dataframe tbody tr th:only-of-type {\n",
       "        vertical-align: middle;\n",
       "    }\n",
       "\n",
       "    .dataframe tbody tr th {\n",
       "        vertical-align: top;\n",
       "    }\n",
       "\n",
       "    .dataframe thead th {\n",
       "        text-align: right;\n",
       "    }\n",
       "</style>\n",
       "<table border=\"1\" class=\"dataframe\">\n",
       "  <thead>\n",
       "    <tr style=\"text-align: right;\">\n",
       "      <th></th>\n",
       "      <th>GHI</th>\n",
       "      <th>Temperature</th>\n",
       "      <th>Wind Speed</th>\n",
       "    </tr>\n",
       "  </thead>\n",
       "  <tbody>\n",
       "    <tr>\n",
       "      <th>0</th>\n",
       "      <td>205.0</td>\n",
       "      <td>2.0</td>\n",
       "      <td>11.0</td>\n",
       "    </tr>\n",
       "    <tr>\n",
       "      <th>1</th>\n",
       "      <td>185.0</td>\n",
       "      <td>2.0</td>\n",
       "      <td>12.0</td>\n",
       "    </tr>\n",
       "    <tr>\n",
       "      <th>2</th>\n",
       "      <td>228.0</td>\n",
       "      <td>2.0</td>\n",
       "      <td>11.0</td>\n",
       "    </tr>\n",
       "    <tr>\n",
       "      <th>3</th>\n",
       "      <td>216.0</td>\n",
       "      <td>2.0</td>\n",
       "      <td>12.0</td>\n",
       "    </tr>\n",
       "    <tr>\n",
       "      <th>4</th>\n",
       "      <td>170.0</td>\n",
       "      <td>2.0</td>\n",
       "      <td>11.0</td>\n",
       "    </tr>\n",
       "  </tbody>\n",
       "</table>\n",
       "</div>"
      ],
      "text/plain": [
       "     GHI  Temperature  Wind Speed\n",
       "0  205.0          2.0        11.0\n",
       "1  185.0          2.0        12.0\n",
       "2  228.0          2.0        11.0\n",
       "3  216.0          2.0        12.0\n",
       "4  170.0          2.0        11.0"
      ]
     },
     "execution_count": 15,
     "metadata": {},
     "output_type": "execute_result"
    }
   ],
   "source": [
    "pd.read_csv('daily_pasto.csv').head()"
   ]
  },
  {
   "cell_type": "code",
   "execution_count": 24,
   "metadata": {},
   "outputs": [],
   "source": [
    "def ls(ruta = getcwd()):\n",
    "    return [arch.name for arch in scandir(ruta) if arch.is_file()]\n",
    "\n",
    "def mothly_mean(files):\n",
    "    folder = 'Pasto'\n",
    "    a = pd.read_csv(folder+'/'+files[0], skiprows=2)\n",
    "    n = a.shape[0]\n",
    "    date = [None]*n\n",
    "    for i in range(n):\n",
    "        date[i] = pd.Timestamp(datetime.datetime(a['Year'][i], a['Month'][i], a['Day'][i], a['Hour'][i], a['Minute'][i]))\n",
    "    \n",
    "    n = len(files)\n",
    "    rad = [None]*n\n",
    "    temp = [None]*n\n",
    "    wind = [None]*n\n",
    "    \n",
    "    for i in range(n):\n",
    "        data = pd.read_csv(folder+'/'+files[i], skiprows=2)\n",
    "        \n",
    "        var = pd.DataFrame({'Date': pd.DatetimeIndex(date), 'GHI': data['GHI'], 'Temperature': data['Temperature'], \n",
    "                            'Wind Speed': data['Wind Speed']})\n",
    "        var = var.set_index('Date')\n",
    "        var = var.resample(\"M\").mean()\n",
    "        \n",
    "        rad[i] = var['GHI'].values\n",
    "        temp[i] = var['Temperature'].values\n",
    "        wind[i] = var['Wind Speed'].values\n",
    "        \n",
    "    return rad, wind, temp"
   ]
  },
  {
   "cell_type": "code",
   "execution_count": 25,
   "metadata": {},
   "outputs": [],
   "source": [
    "files = ls('Pasto')\n",
    "rad_, temp_, wind_ = mothly_mean(files)"
   ]
  },
  {
   "cell_type": "code",
   "execution_count": 27,
   "metadata": {},
   "outputs": [],
   "source": [
    "rad = pd.DataFrame(rad_)\n",
    "rad = rad.values.ravel()\n",
    "rad = np.round(rad)\n",
    "\n",
    "temp = pd.DataFrame(temp_)\n",
    "temp = temp.values.ravel()\n",
    "temp = np.round(temp)\n",
    "\n",
    "wind = pd.DataFrame(wind_)\n",
    "wind = wind.values.ravel()\n",
    "wind = np.round(wind)"
   ]
  },
  {
   "cell_type": "code",
   "execution_count": 30,
   "metadata": {},
   "outputs": [
    {
     "data": {
      "text/html": [
       "<div>\n",
       "<style scoped>\n",
       "    .dataframe tbody tr th:only-of-type {\n",
       "        vertical-align: middle;\n",
       "    }\n",
       "\n",
       "    .dataframe tbody tr th {\n",
       "        vertical-align: top;\n",
       "    }\n",
       "\n",
       "    .dataframe thead th {\n",
       "        text-align: right;\n",
       "    }\n",
       "</style>\n",
       "<table border=\"1\" class=\"dataframe\">\n",
       "  <thead>\n",
       "    <tr style=\"text-align: right;\">\n",
       "      <th></th>\n",
       "      <th>GHI</th>\n",
       "      <th>Temperature</th>\n",
       "      <th>Wind Speed</th>\n",
       "    </tr>\n",
       "  </thead>\n",
       "  <tbody>\n",
       "    <tr>\n",
       "      <th>0</th>\n",
       "      <td>189.0</td>\n",
       "      <td>1.0</td>\n",
       "      <td>11.0</td>\n",
       "    </tr>\n",
       "    <tr>\n",
       "      <th>1</th>\n",
       "      <td>208.0</td>\n",
       "      <td>1.0</td>\n",
       "      <td>12.0</td>\n",
       "    </tr>\n",
       "    <tr>\n",
       "      <th>2</th>\n",
       "      <td>190.0</td>\n",
       "      <td>1.0</td>\n",
       "      <td>12.0</td>\n",
       "    </tr>\n",
       "    <tr>\n",
       "      <th>3</th>\n",
       "      <td>195.0</td>\n",
       "      <td>1.0</td>\n",
       "      <td>12.0</td>\n",
       "    </tr>\n",
       "    <tr>\n",
       "      <th>4</th>\n",
       "      <td>183.0</td>\n",
       "      <td>2.0</td>\n",
       "      <td>12.0</td>\n",
       "    </tr>\n",
       "  </tbody>\n",
       "</table>\n",
       "</div>"
      ],
      "text/plain": [
       "     GHI  Temperature  Wind Speed\n",
       "0  189.0          1.0        11.0\n",
       "1  208.0          1.0        12.0\n",
       "2  190.0          1.0        12.0\n",
       "3  195.0          1.0        12.0\n",
       "4  183.0          2.0        12.0"
      ]
     },
     "execution_count": 30,
     "metadata": {},
     "output_type": "execute_result"
    }
   ],
   "source": [
    "monthly_pasto = pd.DataFrame({'GHI': rad, 'Temperature': temp, 'Wind Speed': wind})\n",
    "monthly_pasto.head()"
   ]
  },
  {
   "cell_type": "code",
   "execution_count": 31,
   "metadata": {},
   "outputs": [],
   "source": [
    "monthly_pasto.to_csv('monthly_pasto.csv',index=False)"
   ]
  },
  {
   "cell_type": "code",
   "execution_count": 34,
   "metadata": {},
   "outputs": [
    {
     "data": {
      "text/html": [
       "<div>\n",
       "<style scoped>\n",
       "    .dataframe tbody tr th:only-of-type {\n",
       "        vertical-align: middle;\n",
       "    }\n",
       "\n",
       "    .dataframe tbody tr th {\n",
       "        vertical-align: top;\n",
       "    }\n",
       "\n",
       "    .dataframe thead th {\n",
       "        text-align: right;\n",
       "    }\n",
       "</style>\n",
       "<table border=\"1\" class=\"dataframe\">\n",
       "  <thead>\n",
       "    <tr style=\"text-align: right;\">\n",
       "      <th></th>\n",
       "      <th>GHI</th>\n",
       "      <th>Temperature</th>\n",
       "      <th>Wind Speed</th>\n",
       "    </tr>\n",
       "  </thead>\n",
       "  <tbody>\n",
       "    <tr>\n",
       "      <th>0</th>\n",
       "      <td>189.0</td>\n",
       "      <td>1.0</td>\n",
       "      <td>11.0</td>\n",
       "    </tr>\n",
       "    <tr>\n",
       "      <th>1</th>\n",
       "      <td>208.0</td>\n",
       "      <td>1.0</td>\n",
       "      <td>12.0</td>\n",
       "    </tr>\n",
       "    <tr>\n",
       "      <th>2</th>\n",
       "      <td>190.0</td>\n",
       "      <td>1.0</td>\n",
       "      <td>12.0</td>\n",
       "    </tr>\n",
       "    <tr>\n",
       "      <th>3</th>\n",
       "      <td>195.0</td>\n",
       "      <td>1.0</td>\n",
       "      <td>12.0</td>\n",
       "    </tr>\n",
       "    <tr>\n",
       "      <th>4</th>\n",
       "      <td>183.0</td>\n",
       "      <td>2.0</td>\n",
       "      <td>12.0</td>\n",
       "    </tr>\n",
       "  </tbody>\n",
       "</table>\n",
       "</div>"
      ],
      "text/plain": [
       "     GHI  Temperature  Wind Speed\n",
       "0  189.0          1.0        11.0\n",
       "1  208.0          1.0        12.0\n",
       "2  190.0          1.0        12.0\n",
       "3  195.0          1.0        12.0\n",
       "4  183.0          2.0        12.0"
      ]
     },
     "execution_count": 34,
     "metadata": {},
     "output_type": "execute_result"
    }
   ],
   "source": [
    "pd.read_csv('monthly_pasto.csv').head()"
   ]
  }
 ],
 "metadata": {
  "kernelspec": {
   "display_name": "Python 3",
   "language": "python",
   "name": "python3"
  },
  "language_info": {
   "codemirror_mode": {
    "name": "ipython",
    "version": 3
   },
   "file_extension": ".py",
   "mimetype": "text/x-python",
   "name": "python",
   "nbconvert_exporter": "python",
   "pygments_lexer": "ipython3",
   "version": "3.6.8"
  }
 },
 "nbformat": 4,
 "nbformat_minor": 2
}
